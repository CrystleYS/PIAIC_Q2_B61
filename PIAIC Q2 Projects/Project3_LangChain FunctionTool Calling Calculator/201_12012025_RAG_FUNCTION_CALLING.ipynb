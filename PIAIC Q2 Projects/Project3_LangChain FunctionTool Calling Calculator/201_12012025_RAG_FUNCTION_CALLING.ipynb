{
  "cells": [
    {
      "cell_type": "code",
      "source": [
        "!pip install langchain langchain_community langchain_google_genai"
      ],
      "metadata": {
        "colab": {
          "base_uri": "https://localhost:8080/"
        },
        "id": "8Rsqn4uWa0Ow",
        "outputId": "f1c4f78a-0d2d-4025-c47d-202f572d3d85"
      },
      "execution_count": 1,
      "outputs": [
        {
          "output_type": "stream",
          "name": "stdout",
          "text": [
            "Requirement already satisfied: langchain in /usr/local/lib/python3.10/dist-packages (0.3.14)\n",
            "Collecting langchain_community\n",
            "  Downloading langchain_community-0.3.14-py3-none-any.whl.metadata (2.9 kB)\n",
            "Collecting langchain_google_genai\n",
            "  Downloading langchain_google_genai-2.0.8-py3-none-any.whl.metadata (3.6 kB)\n",
            "Requirement already satisfied: PyYAML>=5.3 in /usr/local/lib/python3.10/dist-packages (from langchain) (6.0.2)\n",
            "Requirement already satisfied: SQLAlchemy<3,>=1.4 in /usr/local/lib/python3.10/dist-packages (from langchain) (2.0.36)\n",
            "Requirement already satisfied: aiohttp<4.0.0,>=3.8.3 in /usr/local/lib/python3.10/dist-packages (from langchain) (3.11.11)\n",
            "Requirement already satisfied: async-timeout<5.0.0,>=4.0.0 in /usr/local/lib/python3.10/dist-packages (from langchain) (4.0.3)\n",
            "Requirement already satisfied: langchain-core<0.4.0,>=0.3.29 in /usr/local/lib/python3.10/dist-packages (from langchain) (0.3.29)\n",
            "Requirement already satisfied: langchain-text-splitters<0.4.0,>=0.3.3 in /usr/local/lib/python3.10/dist-packages (from langchain) (0.3.5)\n",
            "Requirement already satisfied: langsmith<0.3,>=0.1.17 in /usr/local/lib/python3.10/dist-packages (from langchain) (0.2.10)\n",
            "Requirement already satisfied: numpy<2,>=1.22.4 in /usr/local/lib/python3.10/dist-packages (from langchain) (1.26.4)\n",
            "Requirement already satisfied: pydantic<3.0.0,>=2.7.4 in /usr/local/lib/python3.10/dist-packages (from langchain) (2.10.4)\n",
            "Requirement already satisfied: requests<3,>=2 in /usr/local/lib/python3.10/dist-packages (from langchain) (2.32.3)\n",
            "Requirement already satisfied: tenacity!=8.4.0,<10,>=8.1.0 in /usr/local/lib/python3.10/dist-packages (from langchain) (9.0.0)\n",
            "Collecting dataclasses-json<0.7,>=0.5.7 (from langchain_community)\n",
            "  Downloading dataclasses_json-0.6.7-py3-none-any.whl.metadata (25 kB)\n",
            "Collecting httpx-sse<0.5.0,>=0.4.0 (from langchain_community)\n",
            "  Downloading httpx_sse-0.4.0-py3-none-any.whl.metadata (9.0 kB)\n",
            "Collecting pydantic-settings<3.0.0,>=2.4.0 (from langchain_community)\n",
            "  Downloading pydantic_settings-2.7.1-py3-none-any.whl.metadata (3.5 kB)\n",
            "Collecting filetype<2.0.0,>=1.2.0 (from langchain_google_genai)\n",
            "  Downloading filetype-1.2.0-py2.py3-none-any.whl.metadata (6.5 kB)\n",
            "Requirement already satisfied: google-generativeai<0.9.0,>=0.8.0 in /usr/local/lib/python3.10/dist-packages (from langchain_google_genai) (0.8.3)\n",
            "Requirement already satisfied: aiohappyeyeballs>=2.3.0 in /usr/local/lib/python3.10/dist-packages (from aiohttp<4.0.0,>=3.8.3->langchain) (2.4.4)\n",
            "Requirement already satisfied: aiosignal>=1.1.2 in /usr/local/lib/python3.10/dist-packages (from aiohttp<4.0.0,>=3.8.3->langchain) (1.3.2)\n",
            "Requirement already satisfied: attrs>=17.3.0 in /usr/local/lib/python3.10/dist-packages (from aiohttp<4.0.0,>=3.8.3->langchain) (24.3.0)\n",
            "Requirement already satisfied: frozenlist>=1.1.1 in /usr/local/lib/python3.10/dist-packages (from aiohttp<4.0.0,>=3.8.3->langchain) (1.5.0)\n",
            "Requirement already satisfied: multidict<7.0,>=4.5 in /usr/local/lib/python3.10/dist-packages (from aiohttp<4.0.0,>=3.8.3->langchain) (6.1.0)\n",
            "Requirement already satisfied: propcache>=0.2.0 in /usr/local/lib/python3.10/dist-packages (from aiohttp<4.0.0,>=3.8.3->langchain) (0.2.1)\n",
            "Requirement already satisfied: yarl<2.0,>=1.17.0 in /usr/local/lib/python3.10/dist-packages (from aiohttp<4.0.0,>=3.8.3->langchain) (1.18.3)\n",
            "Collecting marshmallow<4.0.0,>=3.18.0 (from dataclasses-json<0.7,>=0.5.7->langchain_community)\n",
            "  Downloading marshmallow-3.25.1-py3-none-any.whl.metadata (7.3 kB)\n",
            "Collecting typing-inspect<1,>=0.4.0 (from dataclasses-json<0.7,>=0.5.7->langchain_community)\n",
            "  Downloading typing_inspect-0.9.0-py3-none-any.whl.metadata (1.5 kB)\n",
            "Requirement already satisfied: google-ai-generativelanguage==0.6.10 in /usr/local/lib/python3.10/dist-packages (from google-generativeai<0.9.0,>=0.8.0->langchain_google_genai) (0.6.10)\n",
            "Requirement already satisfied: google-api-core in /usr/local/lib/python3.10/dist-packages (from google-generativeai<0.9.0,>=0.8.0->langchain_google_genai) (2.19.2)\n",
            "Requirement already satisfied: google-api-python-client in /usr/local/lib/python3.10/dist-packages (from google-generativeai<0.9.0,>=0.8.0->langchain_google_genai) (2.155.0)\n",
            "Requirement already satisfied: google-auth>=2.15.0 in /usr/local/lib/python3.10/dist-packages (from google-generativeai<0.9.0,>=0.8.0->langchain_google_genai) (2.27.0)\n",
            "Requirement already satisfied: protobuf in /usr/local/lib/python3.10/dist-packages (from google-generativeai<0.9.0,>=0.8.0->langchain_google_genai) (4.25.5)\n",
            "Requirement already satisfied: tqdm in /usr/local/lib/python3.10/dist-packages (from google-generativeai<0.9.0,>=0.8.0->langchain_google_genai) (4.67.1)\n",
            "Requirement already satisfied: typing-extensions in /usr/local/lib/python3.10/dist-packages (from google-generativeai<0.9.0,>=0.8.0->langchain_google_genai) (4.12.2)\n",
            "Requirement already satisfied: proto-plus<2.0.0dev,>=1.22.3 in /usr/local/lib/python3.10/dist-packages (from google-ai-generativelanguage==0.6.10->google-generativeai<0.9.0,>=0.8.0->langchain_google_genai) (1.25.0)\n",
            "Requirement already satisfied: jsonpatch<2.0,>=1.33 in /usr/local/lib/python3.10/dist-packages (from langchain-core<0.4.0,>=0.3.29->langchain) (1.33)\n",
            "Requirement already satisfied: packaging<25,>=23.2 in /usr/local/lib/python3.10/dist-packages (from langchain-core<0.4.0,>=0.3.29->langchain) (24.2)\n",
            "Requirement already satisfied: httpx<1,>=0.23.0 in /usr/local/lib/python3.10/dist-packages (from langsmith<0.3,>=0.1.17->langchain) (0.28.1)\n",
            "Requirement already satisfied: orjson<4.0.0,>=3.9.14 in /usr/local/lib/python3.10/dist-packages (from langsmith<0.3,>=0.1.17->langchain) (3.10.13)\n",
            "Requirement already satisfied: requests-toolbelt<2.0.0,>=1.0.0 in /usr/local/lib/python3.10/dist-packages (from langsmith<0.3,>=0.1.17->langchain) (1.0.0)\n",
            "Requirement already satisfied: annotated-types>=0.6.0 in /usr/local/lib/python3.10/dist-packages (from pydantic<3.0.0,>=2.7.4->langchain) (0.7.0)\n",
            "Requirement already satisfied: pydantic-core==2.27.2 in /usr/local/lib/python3.10/dist-packages (from pydantic<3.0.0,>=2.7.4->langchain) (2.27.2)\n",
            "Collecting python-dotenv>=0.21.0 (from pydantic-settings<3.0.0,>=2.4.0->langchain_community)\n",
            "  Downloading python_dotenv-1.0.1-py3-none-any.whl.metadata (23 kB)\n",
            "Requirement already satisfied: charset-normalizer<4,>=2 in /usr/local/lib/python3.10/dist-packages (from requests<3,>=2->langchain) (3.4.1)\n",
            "Requirement already satisfied: idna<4,>=2.5 in /usr/local/lib/python3.10/dist-packages (from requests<3,>=2->langchain) (3.10)\n",
            "Requirement already satisfied: urllib3<3,>=1.21.1 in /usr/local/lib/python3.10/dist-packages (from requests<3,>=2->langchain) (2.3.0)\n",
            "Requirement already satisfied: certifi>=2017.4.17 in /usr/local/lib/python3.10/dist-packages (from requests<3,>=2->langchain) (2024.12.14)\n",
            "Requirement already satisfied: greenlet!=0.4.17 in /usr/local/lib/python3.10/dist-packages (from SQLAlchemy<3,>=1.4->langchain) (3.1.1)\n",
            "Requirement already satisfied: googleapis-common-protos<2.0.dev0,>=1.56.2 in /usr/local/lib/python3.10/dist-packages (from google-api-core->google-generativeai<0.9.0,>=0.8.0->langchain_google_genai) (1.66.0)\n",
            "Requirement already satisfied: cachetools<6.0,>=2.0.0 in /usr/local/lib/python3.10/dist-packages (from google-auth>=2.15.0->google-generativeai<0.9.0,>=0.8.0->langchain_google_genai) (5.5.0)\n",
            "Requirement already satisfied: pyasn1-modules>=0.2.1 in /usr/local/lib/python3.10/dist-packages (from google-auth>=2.15.0->google-generativeai<0.9.0,>=0.8.0->langchain_google_genai) (0.4.1)\n",
            "Requirement already satisfied: rsa<5,>=3.1.4 in /usr/local/lib/python3.10/dist-packages (from google-auth>=2.15.0->google-generativeai<0.9.0,>=0.8.0->langchain_google_genai) (4.9)\n",
            "Requirement already satisfied: anyio in /usr/local/lib/python3.10/dist-packages (from httpx<1,>=0.23.0->langsmith<0.3,>=0.1.17->langchain) (3.7.1)\n",
            "Requirement already satisfied: httpcore==1.* in /usr/local/lib/python3.10/dist-packages (from httpx<1,>=0.23.0->langsmith<0.3,>=0.1.17->langchain) (1.0.7)\n",
            "Requirement already satisfied: h11<0.15,>=0.13 in /usr/local/lib/python3.10/dist-packages (from httpcore==1.*->httpx<1,>=0.23.0->langsmith<0.3,>=0.1.17->langchain) (0.14.0)\n",
            "Requirement already satisfied: jsonpointer>=1.9 in /usr/local/lib/python3.10/dist-packages (from jsonpatch<2.0,>=1.33->langchain-core<0.4.0,>=0.3.29->langchain) (3.0.0)\n",
            "Collecting mypy-extensions>=0.3.0 (from typing-inspect<1,>=0.4.0->dataclasses-json<0.7,>=0.5.7->langchain_community)\n",
            "  Downloading mypy_extensions-1.0.0-py3-none-any.whl.metadata (1.1 kB)\n",
            "Requirement already satisfied: httplib2<1.dev0,>=0.19.0 in /usr/local/lib/python3.10/dist-packages (from google-api-python-client->google-generativeai<0.9.0,>=0.8.0->langchain_google_genai) (0.22.0)\n",
            "Requirement already satisfied: google-auth-httplib2<1.0.0,>=0.2.0 in /usr/local/lib/python3.10/dist-packages (from google-api-python-client->google-generativeai<0.9.0,>=0.8.0->langchain_google_genai) (0.2.0)\n",
            "Requirement already satisfied: uritemplate<5,>=3.0.1 in /usr/local/lib/python3.10/dist-packages (from google-api-python-client->google-generativeai<0.9.0,>=0.8.0->langchain_google_genai) (4.1.1)\n",
            "Requirement already satisfied: grpcio<2.0dev,>=1.33.2 in /usr/local/lib/python3.10/dist-packages (from google-api-core[grpc]!=2.0.*,!=2.1.*,!=2.10.*,!=2.2.*,!=2.3.*,!=2.4.*,!=2.5.*,!=2.6.*,!=2.7.*,!=2.8.*,!=2.9.*,<3.0.0dev,>=1.34.1->google-ai-generativelanguage==0.6.10->google-generativeai<0.9.0,>=0.8.0->langchain_google_genai) (1.69.0)\n",
            "Requirement already satisfied: grpcio-status<2.0.dev0,>=1.33.2 in /usr/local/lib/python3.10/dist-packages (from google-api-core[grpc]!=2.0.*,!=2.1.*,!=2.10.*,!=2.2.*,!=2.3.*,!=2.4.*,!=2.5.*,!=2.6.*,!=2.7.*,!=2.8.*,!=2.9.*,<3.0.0dev,>=1.34.1->google-ai-generativelanguage==0.6.10->google-generativeai<0.9.0,>=0.8.0->langchain_google_genai) (1.62.3)\n",
            "Requirement already satisfied: pyparsing!=3.0.0,!=3.0.1,!=3.0.2,!=3.0.3,<4,>=2.4.2 in /usr/local/lib/python3.10/dist-packages (from httplib2<1.dev0,>=0.19.0->google-api-python-client->google-generativeai<0.9.0,>=0.8.0->langchain_google_genai) (3.2.1)\n",
            "Requirement already satisfied: pyasn1<0.7.0,>=0.4.6 in /usr/local/lib/python3.10/dist-packages (from pyasn1-modules>=0.2.1->google-auth>=2.15.0->google-generativeai<0.9.0,>=0.8.0->langchain_google_genai) (0.6.1)\n",
            "Requirement already satisfied: sniffio>=1.1 in /usr/local/lib/python3.10/dist-packages (from anyio->httpx<1,>=0.23.0->langsmith<0.3,>=0.1.17->langchain) (1.3.1)\n",
            "Requirement already satisfied: exceptiongroup in /usr/local/lib/python3.10/dist-packages (from anyio->httpx<1,>=0.23.0->langsmith<0.3,>=0.1.17->langchain) (1.2.2)\n",
            "Downloading langchain_community-0.3.14-py3-none-any.whl (2.5 MB)\n",
            "\u001b[2K   \u001b[90m━━━━━━━━━━━━━━━━━━━━━━━━━━━━━━━━━━━━━━━━\u001b[0m \u001b[32m2.5/2.5 MB\u001b[0m \u001b[31m30.9 MB/s\u001b[0m eta \u001b[36m0:00:00\u001b[0m\n",
            "\u001b[?25hDownloading langchain_google_genai-2.0.8-py3-none-any.whl (41 kB)\n",
            "\u001b[2K   \u001b[90m━━━━━━━━━━━━━━━━━━━━━━━━━━━━━━━━━━━━━━━━\u001b[0m \u001b[32m41.5/41.5 kB\u001b[0m \u001b[31m3.0 MB/s\u001b[0m eta \u001b[36m0:00:00\u001b[0m\n",
            "\u001b[?25hDownloading dataclasses_json-0.6.7-py3-none-any.whl (28 kB)\n",
            "Downloading filetype-1.2.0-py2.py3-none-any.whl (19 kB)\n",
            "Downloading httpx_sse-0.4.0-py3-none-any.whl (7.8 kB)\n",
            "Downloading pydantic_settings-2.7.1-py3-none-any.whl (29 kB)\n",
            "Downloading marshmallow-3.25.1-py3-none-any.whl (49 kB)\n",
            "\u001b[2K   \u001b[90m━━━━━━━━━━━━━━━━━━━━━━━━━━━━━━━━━━━━━━━━\u001b[0m \u001b[32m49.6/49.6 kB\u001b[0m \u001b[31m3.7 MB/s\u001b[0m eta \u001b[36m0:00:00\u001b[0m\n",
            "\u001b[?25hDownloading python_dotenv-1.0.1-py3-none-any.whl (19 kB)\n",
            "Downloading typing_inspect-0.9.0-py3-none-any.whl (8.8 kB)\n",
            "Downloading mypy_extensions-1.0.0-py3-none-any.whl (4.7 kB)\n",
            "Installing collected packages: filetype, python-dotenv, mypy-extensions, marshmallow, httpx-sse, typing-inspect, pydantic-settings, dataclasses-json, langchain_google_genai, langchain_community\n",
            "Successfully installed dataclasses-json-0.6.7 filetype-1.2.0 httpx-sse-0.4.0 langchain_community-0.3.14 langchain_google_genai-2.0.8 marshmallow-3.25.1 mypy-extensions-1.0.0 pydantic-settings-2.7.1 python-dotenv-1.0.1 typing-inspect-0.9.0\n"
          ]
        }
      ]
    },
    {
      "cell_type": "code",
      "source": [
        "from google.colab import userdata\n",
        "import os\n",
        "\n",
        "os.environ['GOOGLE_API_KEY'] = userdata.get('GOOGLE_API_KEY')"
      ],
      "metadata": {
        "id": "n-YRmOuPbnVQ"
      },
      "execution_count": 2,
      "outputs": []
    },
    {
      "cell_type": "code",
      "source": [
        "from langchain_google_genai import ChatGoogleGenerativeAI\n",
        "\n",
        "llm=ChatGoogleGenerativeAI(model='gemini-1.5-flash',verbose=True)\n",
        "\n",
        "llm.invoke(\"Hi\")"
      ],
      "metadata": {
        "colab": {
          "base_uri": "https://localhost:8080/"
        },
        "id": "MBbbhVu1bpWU",
        "outputId": "9e779e59-862d-40da-956d-8b518625810c"
      },
      "execution_count": 3,
      "outputs": [
        {
          "output_type": "execute_result",
          "data": {
            "text/plain": [
              "AIMessage(content='Hi there! How can I help you today?', additional_kwargs={}, response_metadata={'prompt_feedback': {'block_reason': 0, 'safety_ratings': []}, 'finish_reason': 'STOP', 'safety_ratings': []}, id='run-ab3770dc-c2de-42b4-8533-2c9cb8944222-0', usage_metadata={'input_tokens': 2, 'output_tokens': 11, 'total_tokens': 13, 'input_token_details': {'cache_read': 0}})"
            ]
          },
          "metadata": {},
          "execution_count": 3
        }
      ]
    },
    {
      "cell_type": "code",
      "source": [
        "from langchain_core.tools import tool\n",
        "\n",
        "@tool\n",
        "def multiply(a: int, b: int) -> int:\n",
        "    \"\"\"Multiply a and b.\n",
        "\n",
        "    Args:\n",
        "        a: first int\n",
        "        b: second int\n",
        "    \"\"\"\n",
        "    return a * b\n",
        "\n",
        "llm_with_tools = llm.bind_tools([multiply])"
      ],
      "metadata": {
        "id": "Hz6tI7nPbyPi"
      },
      "execution_count": 4,
      "outputs": []
    },
    {
      "cell_type": "code",
      "source": [
        "tools_list=[multiply]\n",
        "model_with_tools = llm.bind_tools(tools_list)"
      ],
      "metadata": {
        "id": "O24URcyVb3gw"
      },
      "execution_count": 5,
      "outputs": []
    },
    {
      "cell_type": "code",
      "source": [
        "result = llm_with_tools.invoke(\"Hey how are you!\")\n",
        "result"
      ],
      "metadata": {
        "colab": {
          "base_uri": "https://localhost:8080/"
        },
        "id": "Fvosun4rb4yg",
        "outputId": "55532c6e-1d3a-4b4a-c085-2f056063f835"
      },
      "execution_count": 6,
      "outputs": [
        {
          "output_type": "execute_result",
          "data": {
            "text/plain": [
              "AIMessage(content=\"I'm doing well, thank you for asking! How are you today?\", additional_kwargs={}, response_metadata={'prompt_feedback': {'block_reason': 0, 'safety_ratings': []}, 'finish_reason': 'STOP', 'safety_ratings': []}, id='run-5dbf2529-3b67-45ca-ac8c-c82f9665f2b7-0', usage_metadata={'input_tokens': 68, 'output_tokens': 17, 'total_tokens': 85, 'input_token_details': {'cache_read': 0}})"
            ]
          },
          "metadata": {},
          "execution_count": 6
        }
      ]
    },
    {
      "cell_type": "code",
      "source": [
        "result = llm_with_tools.invoke(\"What is 2 multiplied by 3?\")\n",
        "result\n"
      ],
      "metadata": {
        "colab": {
          "base_uri": "https://localhost:8080/"
        },
        "id": "m0Ux1CnWcAHm",
        "outputId": "c50ce58f-1bb0-468b-f082-661fc7473296"
      },
      "execution_count": 7,
      "outputs": [
        {
          "output_type": "execute_result",
          "data": {
            "text/plain": [
              "AIMessage(content='', additional_kwargs={'function_call': {'name': 'multiply', 'arguments': '{\"a\": 2.0, \"b\": 3.0}'}}, response_metadata={'prompt_feedback': {'block_reason': 0, 'safety_ratings': []}, 'finish_reason': 'STOP', 'safety_ratings': []}, id='run-bace9106-1aa1-47c1-bc2c-cb5d5e76f6e0-0', tool_calls=[{'name': 'multiply', 'args': {'a': 2.0, 'b': 3.0}, 'id': '2a2d12a8-d6ca-44ca-b9e7-4e678f947492', 'type': 'tool_call'}], usage_metadata={'input_tokens': 72, 'output_tokens': 3, 'total_tokens': 75, 'input_token_details': {'cache_read': 0}})"
            ]
          },
          "metadata": {},
          "execution_count": 7
        }
      ]
    },
    {
      "cell_type": "code",
      "source": [
        "from langchain.tools import Tool\n",
        "\n",
        "# Example tool for addition\n",
        "def add_numbers(a, b):\n",
        "    return a + b\n",
        "\n",
        "math_tool = Tool(\n",
        "    name=\"AdditionTool\",\n",
        "    func=lambda x: f\"The result is: {add_numbers(*map(int, x.split()))}\",\n",
        "    description=\"Adds two numbers. Input should be two integers separated by a space.\"\n",
        ")\n",
        "math_tool"
      ],
      "metadata": {
        "colab": {
          "base_uri": "https://localhost:8080/"
        },
        "id": "BXfESurgcJEx",
        "outputId": "98d1ac47-f5f2-402d-df36-ee78fb3ab630"
      },
      "execution_count": 10,
      "outputs": [
        {
          "output_type": "execute_result",
          "data": {
            "text/plain": [
              "Tool(name='AdditionTool', description='Adds two numbers. Input should be two integers separated by a space.', func=<function <lambda> at 0x7e6bb2dd4ca0>)"
            ]
          },
          "metadata": {},
          "execution_count": 10
        }
      ]
    },
    {
      "cell_type": "code",
      "source": [
        "from langchain.agents import initialize_agent, AgentType\n",
        "\n",
        "# List of tools\n",
        "tools = [math_tool]\n",
        "\n",
        "# Initialize the agent\n",
        "agent = initialize_agent(\n",
        "    tools=tools,                        # Provide the tools\n",
        "    llm=llm,                            # LLM for fallback\n",
        "    agent=AgentType.ZERO_SHOT_REACT_DESCRIPTION,  # Agent type\n",
        "    verbose=True                        # Enable debugging output\n",
        ")"
      ],
      "metadata": {
        "colab": {
          "base_uri": "https://localhost:8080/"
        },
        "id": "ndpNYI9qcU2S",
        "outputId": "62836c46-227b-4217-cf34-63e383654fab"
      },
      "execution_count": 9,
      "outputs": [
        {
          "output_type": "stream",
          "name": "stderr",
          "text": [
            "<ipython-input-9-f11f73b77070>:7: LangChainDeprecationWarning: LangChain agents will continue to be supported, but it is recommended for new use cases to be built with LangGraph. LangGraph offers a more flexible and full-featured framework for building agents, including support for tool-calling, persistence of state, and human-in-the-loop workflows. For details, refer to the `LangGraph documentation <https://langchain-ai.github.io/langgraph/>`_ as well as guides for `Migrating from AgentExecutor <https://python.langchain.com/docs/how_to/migrate_agent/>`_ and LangGraph's `Pre-built ReAct agent <https://langchain-ai.github.io/langgraph/how-tos/create-react-agent/>`_.\n",
            "  agent = initialize_agent(\n"
          ]
        }
      ]
    },
    {
      "cell_type": "code",
      "source": [
        "# Query the agent\n",
        "response1 = agent.run(\"What is 10 + 20?\")  # Uses the tool\n",
        "print(response1)"
      ],
      "metadata": {
        "colab": {
          "base_uri": "https://localhost:8080/"
        },
        "id": "G-0dMwUpcqhl",
        "outputId": "4dc50f3e-2509-411c-9b07-1b05bf010e45"
      },
      "execution_count": 11,
      "outputs": [
        {
          "output_type": "stream",
          "name": "stderr",
          "text": [
            "<ipython-input-11-4b65a0f336c1>:2: LangChainDeprecationWarning: The method `Chain.run` was deprecated in langchain 0.1.0 and will be removed in 1.0. Use :meth:`~invoke` instead.\n",
            "  response1 = agent.run(\"What is 10 + 20?\")  # Uses the tool\n"
          ]
        },
        {
          "output_type": "stream",
          "name": "stdout",
          "text": [
            "\n",
            "\n",
            "\u001b[1m> Entering new AgentExecutor chain...\u001b[0m\n",
            "\u001b[32;1m\u001b[1;3mQuestion: What is 10 + 20?\n",
            "Thought: I need to add 10 and 20 together.  I can use the AdditionTool for this.\n",
            "Action: AdditionTool\n",
            "Action Input: 10 20\u001b[0m\n",
            "Observation: \u001b[36;1m\u001b[1;3mThe result is: 30\u001b[0m\n",
            "Thought:\u001b[32;1m\u001b[1;3mQuestion: What is 10 + 20?\n",
            "Thought: I need to add 10 and 20 together.  I can use the AdditionTool for this.\n",
            "Action: AdditionTool\n",
            "Action Input: 10 20\u001b[0m\n",
            "Observation: \u001b[36;1m\u001b[1;3mThe result is: 30\u001b[0m\n",
            "Thought:\u001b[32;1m\u001b[1;3mQuestion: What is 10 + 20?\n",
            "Thought: I need to add 10 and 20 together.  I can use the AdditionTool for this.\n",
            "Action: AdditionTool\n",
            "Action Input: 10 20\u001b[0m\n",
            "Observation: \u001b[36;1m\u001b[1;3mThe result is: 30\u001b[0m\n",
            "Thought:\u001b[32;1m\u001b[1;3mQuestion: What is 10 + 20?\n",
            "Thought: I need to add 10 and 20 together.  I can use the AdditionTool for this.\n",
            "Action: AdditionTool\n",
            "Action Input: 10 20\u001b[0m\n",
            "Observation: \u001b[36;1m\u001b[1;3mThe result is: 30\u001b[0m\n",
            "Thought:\u001b[32;1m\u001b[1;3mQuestion: What is 10 + 20?\n",
            "Thought: I need to add 10 and 20 together.  I can use the AdditionTool for this.\n",
            "Action: AdditionTool\n",
            "Action Input: 10 20\u001b[0m\n",
            "Observation: \u001b[36;1m\u001b[1;3mThe result is: 30\u001b[0m\n",
            "Thought:\u001b[32;1m\u001b[1;3mQuestion: What is 10 + 20?\n",
            "Thought: I need to add 10 and 20 together. I can use the AdditionTool for this.\n",
            "Action: AdditionTool\n",
            "Action Input: 10 20\u001b[0m\n",
            "Observation: \u001b[36;1m\u001b[1;3mThe result is: 30\u001b[0m\n",
            "Thought:\u001b[32;1m\u001b[1;3mQuestion: What is 10 + 20?\n",
            "Thought: I need to add 10 and 20 together. I can use the AdditionTool for this.\n",
            "Action: AdditionTool\n",
            "Action Input: 10 20\u001b[0m\n",
            "Observation: \u001b[36;1m\u001b[1;3mThe result is: 30\u001b[0m\n",
            "Thought:\u001b[32;1m\u001b[1;3mQuestion: What is 10 + 20?\n",
            "Thought: I need to add 10 and 20 together. I can use the AdditionTool for this.\n",
            "Action: AdditionTool\n",
            "Action Input: 10 20\u001b[0m\n",
            "Observation: \u001b[36;1m\u001b[1;3mThe result is: 30\u001b[0m\n",
            "Thought:\u001b[32;1m\u001b[1;3mQuestion: What is 10 + 20?\n",
            "Thought: I need to add 10 and 20 together. I can use the AdditionTool for this.\n",
            "Action: AdditionTool\n",
            "Action Input: 10 20\u001b[0m\n",
            "Observation: \u001b[36;1m\u001b[1;3mThe result is: 30\u001b[0m\n",
            "Thought:\u001b[32;1m\u001b[1;3mThought: I need to add 10 and 20 together. I can use the AdditionTool for this.\n",
            "Action: AdditionTool\n",
            "Action Input: 10 20\u001b[0m\n",
            "Observation: \u001b[36;1m\u001b[1;3mThe result is: 30\u001b[0m\n",
            "Thought:\u001b[32;1m\u001b[1;3mQuestion: What is 10 + 20?\n",
            "Thought: I need to add 10 and 20 together. I can use the AdditionTool for this.\n",
            "Action: AdditionTool\n",
            "Action Input: 10 20\u001b[0m\n",
            "Observation: \u001b[36;1m\u001b[1;3mThe result is: 30\u001b[0m\n",
            "Thought:\u001b[32;1m\u001b[1;3mQuestion: What is 10 + 20?\n",
            "Thought: I need to add 10 and 20 together. I can use the AdditionTool for this.\n",
            "Action: AdditionTool\n",
            "Action Input: 10 20\u001b[0m\n",
            "Observation: \u001b[36;1m\u001b[1;3mThe result is: 30\u001b[0m\n",
            "Thought:\u001b[32;1m\u001b[1;3mQuestion: What is 10 + 20?\n",
            "Thought: I need to add 10 and 20 together. I can use the AdditionTool for this.\n",
            "Action: AdditionTool\n",
            "Action Input: 10 20\u001b[0m\n",
            "Observation: \u001b[36;1m\u001b[1;3mThe result is: 30\u001b[0m\n",
            "Thought:\u001b[32;1m\u001b[1;3mQuestion: What is 10 + 20?\n",
            "Thought: I need to add 10 and 20 together. I can use the AdditionTool for this.\n",
            "Action: AdditionTool\n",
            "Action Input: 10 20\u001b[0m\n",
            "Observation: \u001b[36;1m\u001b[1;3mThe result is: 30\u001b[0m\n",
            "Thought:\u001b[32;1m\u001b[1;3mThought: I now know the final answer\n",
            "Final Answer: 30\u001b[0m\n",
            "\n",
            "\u001b[1m> Finished chain.\u001b[0m\n",
            "30\n"
          ]
        }
      ]
    },
    {
      "cell_type": "code",
      "source": [
        "# Query the agent\n",
        "response1 = agent.run(\"What is 12 + 20 * 3?\")  # Uses the tool\n",
        "print(response1)"
      ],
      "metadata": {
        "colab": {
          "base_uri": "https://localhost:8080/"
        },
        "id": "W8Izq-8ydPnw",
        "outputId": "d071e936-6b5e-40e3-b971-987561faaea5"
      },
      "execution_count": 12,
      "outputs": [
        {
          "output_type": "stream",
          "name": "stdout",
          "text": [
            "\n",
            "\n",
            "\u001b[1m> Entering new AgentExecutor chain...\u001b[0m\n",
            "\u001b[32;1m\u001b[1;3mQuestion: What is 12 + 20 * 3?\n",
            "Thought: I need to perform multiplication before addition according to the order of operations (PEMDAS/BODMAS).  First, I'll calculate 20 * 3, then add 12 to the result.\n",
            "Action: AdditionTool\n",
            "Action Input: 20 3\u001b[0m\n",
            "Observation: \u001b[36;1m\u001b[1;3mThe result is: 23\u001b[0m\n",
            "Thought:\u001b[32;1m\u001b[1;3mQuestion: What is 12 + 20 * 3?\n",
            "Thought: I need to perform multiplication before addition according to the order of operations (PEMDAS/BODMAS).  First, I'll calculate 20 * 3, then add 12 to the result.\n",
            "Action: AdditionTool\n",
            "Action Input: 20 3\u001b[0m\n",
            "Observation: \u001b[36;1m\u001b[1;3mThe result is: 23\u001b[0m\n",
            "Thought:\u001b[32;1m\u001b[1;3mQuestion: What is 12 + 20 * 3?\n",
            "Thought: I need to perform multiplication before addition according to the order of operations (PEMDAS/BODMAS).  First, I'll calculate 20 * 3, then add 12 to the result.\n",
            "Action: AdditionTool\n",
            "Action Input: 20 3\u001b[0m\n",
            "Observation: \u001b[36;1m\u001b[1;3mThe result is: 23\u001b[0m\n",
            "Thought:\u001b[32;1m\u001b[1;3mQuestion: What is 12 + 20 * 3?\n",
            "Thought: I need to perform multiplication before addition according to the order of operations (PEMDAS/BODMAS).  First, I'll calculate 20 * 3.\n",
            "Action: AdditionTool\n",
            "Action Input: 20 3\u001b[0m\n",
            "Observation: \u001b[36;1m\u001b[1;3mThe result is: 23\u001b[0m\n",
            "Thought:\u001b[32;1m\u001b[1;3mQuestion: What is 12 + 20 * 3?\n",
            "Thought: I need to perform multiplication before addition according to the order of operations (PEMDAS/BODMAS).  First, I'll calculate 20 * 3.\n",
            "Action: AdditionTool\n",
            "Action Input: 20 3\u001b[0m\n",
            "Observation: \u001b[36;1m\u001b[1;3mThe result is: 23\u001b[0m\n",
            "Thought:\u001b[32;1m\u001b[1;3mQuestion: What is 12 + 20 * 3?\n",
            "Thought: I need to perform multiplication before addition according to the order of operations (PEMDAS/BODMAS).  First, I'll calculate 20 * 3.\n",
            "Action: AdditionTool\n",
            "Action Input: 20 3\u001b[0m\n",
            "Observation: \u001b[36;1m\u001b[1;3mThe result is: 23\u001b[0m\n",
            "Thought:\u001b[32;1m\u001b[1;3mQuestion: What is 12 + 20 * 3?\n",
            "Thought: I need to perform multiplication before addition according to the order of operations (PEMDAS/BODMAS). First, I'll calculate 20 * 3.  I cannot directly use the AdditionTool for multiplication. I will perform the multiplication manually.\n",
            "Thought: 20 * 3 = 60\n",
            "Thought: Now I need to add 12 to the result of the multiplication (60).\n",
            "Action: AdditionTool\n",
            "Action Input: 12 60\u001b[0m\n",
            "Observation: \u001b[36;1m\u001b[1;3mThe result is: 72\u001b[0m\n",
            "Thought:\u001b[32;1m\u001b[1;3mQuestion: What is 12 + 20 * 3?\n",
            "Thought: I need to follow the order of operations (PEMDAS/BODMAS). Multiplication comes before addition.\n",
            "Action: AdditionTool\n",
            "Action Input: 20 3\u001b[0m\n",
            "Observation: \u001b[36;1m\u001b[1;3mThe result is: 23\u001b[0m\n",
            "Thought:\u001b[32;1m\u001b[1;3mQuestion: What is 12 + 20 * 3?\n",
            "Thought: I need to follow the order of operations (PEMDAS/BODMAS).  Multiplication before addition.\n",
            "Action: AdditionTool\n",
            "Action Input: 20 3\u001b[0m\n",
            "Observation: \u001b[36;1m\u001b[1;3mThe result is: 23\u001b[0m\n",
            "Thought:\u001b[32;1m\u001b[1;3mQuestion: What is 12 + 20 * 3?\n",
            "Thought: I need to follow the order of operations (PEMDAS/BODMAS). Multiplication before addition.  First, calculate 20 * 3.  I'll do this manually since AdditionTool is for addition only.\n",
            "Thought: 20 * 3 = 60\n",
            "Thought: Now add 12 to the result.\n",
            "Action: AdditionTool\n",
            "Action Input: 12 60\u001b[0m\n",
            "Observation: \u001b[36;1m\u001b[1;3mThe result is: 72\u001b[0m\n",
            "Thought:\u001b[32;1m\u001b[1;3mQuestion: What is 12 + 20 * 3?\n",
            "Thought: I need to follow the order of operations (PEMDAS/BODMAS). Multiplication comes before addition.\n",
            "Thought: First, I'll calculate 20 * 3. I'll do this manually since the AdditionTool is only for addition.\n",
            "Thought: 20 * 3 = 60\n",
            "Thought: Now, I'll add 12 to the result.\n",
            "Action: AdditionTool\n",
            "Action Input: 12 60\u001b[0m\n",
            "Observation: \u001b[36;1m\u001b[1;3mThe result is: 72\u001b[0m\n",
            "Thought:\u001b[32;1m\u001b[1;3mThought: I now know the final answer\n",
            "Final Answer: 72\u001b[0m\n",
            "\n",
            "\u001b[1m> Finished chain.\u001b[0m\n",
            "72\n"
          ]
        }
      ]
    }
  ],
  "metadata": {
    "colab": {
      "provenance": []
    },
    "kernelspec": {
      "display_name": "Python 3",
      "name": "python3"
    }
  },
  "nbformat": 4,
  "nbformat_minor": 0
}