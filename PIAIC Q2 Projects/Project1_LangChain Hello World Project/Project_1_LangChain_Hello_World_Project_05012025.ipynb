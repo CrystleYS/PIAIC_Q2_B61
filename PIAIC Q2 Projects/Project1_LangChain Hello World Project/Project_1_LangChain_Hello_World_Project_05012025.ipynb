{
  "nbformat": 4,
  "nbformat_minor": 0,
  "metadata": {
    "colab": {
      "private_outputs": true,
      "provenance": []
    },
    "kernelspec": {
      "name": "python3",
      "display_name": "Python 3"
    },
    "language_info": {
      "name": "python"
    }
  },
  "cells": [
    {
      "cell_type": "markdown",
      "source": [
        "# Project 1: LangChain Hello World Project\n",
        "\n",
        "\n"
      ],
      "metadata": {
        "id": "AU6WVTfi2bPU"
      }
    },
    {
      "cell_type": "code",
      "source": [
        "!pip install langchain langchain-google-genai"
      ],
      "metadata": {
        "collapsed": true,
        "id": "5gR1QajkhTpk"
      },
      "execution_count": null,
      "outputs": []
    },
    {
      "cell_type": "code",
      "source": [
        "import langchain_google_genai as genai"
      ],
      "metadata": {
        "id": "UpItAVBb_EmI"
      },
      "execution_count": null,
      "outputs": []
    },
    {
      "cell_type": "code",
      "source": [
        "from langchain_google_genai import ChatGoogleGenerativeAI"
      ],
      "metadata": {
        "id": "CYobHTO9_Kav"
      },
      "execution_count": null,
      "outputs": []
    },
    {
      "cell_type": "code",
      "source": [
        "from google.colab import userdata\n",
        "GOOGLE_API_KEY= userdata.get('GOOGLE_API_KEY')"
      ],
      "metadata": {
        "id": "Z46hYZTu_b-H"
      },
      "execution_count": null,
      "outputs": []
    },
    {
      "cell_type": "code",
      "source": [
        "llm: ChatGoogleGenerativeAI = ChatGoogleGenerativeAI(\n",
        "    model=\"gemini-1.5-flash\",  # Latest Version of Gemini is 1.5, it is updated as version updated\n",
        "    api_key=GOOGLE_API_KEY,     # Provide the Google API key for authentication\n",
        "    temperature=0.2,            # Set the randomness of the model's responses (0 = deterministic, 1 = very random)\n",
        ")"
      ],
      "metadata": {
        "id": "nhxFohTV_q9H"
      },
      "execution_count": null,
      "outputs": []
    },
    {
      "cell_type": "code",
      "source": [],
      "metadata": {
        "id": "wxRJ1Sq8Axfk"
      },
      "execution_count": null,
      "outputs": []
    },
    {
      "cell_type": "code",
      "source": [
        "response = llm.invoke(\"HELLO WORLD TO MUHAMMAD YOUNAS\")"
      ],
      "metadata": {
        "id": "ewZF0pdFAK6v"
      },
      "execution_count": null,
      "outputs": []
    },
    {
      "cell_type": "code",
      "source": [
        "print(response.content)\n",
        ""
      ],
      "metadata": {
        "id": "6C-H18nfAcEF"
      },
      "execution_count": null,
      "outputs": []
    }
  ]
}