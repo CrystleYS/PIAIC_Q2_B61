{
  "cells": [
    {
      "cell_type": "markdown",
      "metadata": {
        "id": "view-in-github",
        "colab_type": "text"
      },
      "source": [
        "<a href=\"https://colab.research.google.com/github/CrystleYS/PIAIC_Q2_B61/blob/main/Task1_GenList10SampStds_Then_Function_calling_config.ipynb\" target=\"_parent\"><img src=\"https://colab.research.google.com/assets/colab-badge.svg\" alt=\"Open In Colab\"/></a>"
      ]
    },
    {
      "cell_type": "markdown",
      "metadata": {
        "id": "Tce3stUlHN0L"
      },
      "source": [
        "##### Copyright 2024 Google LLC.\n",
        "\n",
        "## 1- TASK IS TO GENERATE LIST OF 10 SAMPLE STUDENTS LIST WITH RollNumber, Name, Father, Address.\n",
        "\n",
        "## 2- USE FUNCTION CALLING TOOL SYSTEM TO GET Desire Data of Student roll Number.\n",
        "\n"
      ]
    },
    {
      "cell_type": "markdown",
      "source": [],
      "metadata": {
        "id": "FG1lL7yvZUUd"
      }
    },
    {
      "cell_type": "code",
      "source": [
        "# prompt: Generate list of dictionary with 10 samples and keys would be Roll Number, Name, Father, Address.\n",
        "\n",
        "import random\n",
        "\n",
        "def generate_student_data(num_students=10):\n",
        "  students = []\n",
        "  for i in range(num_students):\n",
        "    student = {\n",
        "        'Roll Number': i + 1,\n",
        "        'Name': f'Student {i+1}',\n",
        "        'Father': f'Father {i+1}',\n",
        "        'Address': f'Address {i+1}'\n",
        "    }\n",
        "    students.append(student)\n",
        "  return students\n",
        "\n",
        "student_list = generate_student_data()\n",
        "student_list\n"
      ],
      "metadata": {
        "colab": {
          "base_uri": "https://localhost:8080/"
        },
        "id": "Zze4U_62Qbp7",
        "outputId": "4f6cd28e-c823-45f9-b1a5-b1a41ab48b90"
      },
      "execution_count": 15,
      "outputs": [
        {
          "output_type": "execute_result",
          "data": {
            "text/plain": [
              "[{'Roll Number': 1,\n",
              "  'Name': 'Student 1',\n",
              "  'Father': 'Father 1',\n",
              "  'Address': 'Address 1'},\n",
              " {'Roll Number': 2,\n",
              "  'Name': 'Student 2',\n",
              "  'Father': 'Father 2',\n",
              "  'Address': 'Address 2'},\n",
              " {'Roll Number': 3,\n",
              "  'Name': 'Student 3',\n",
              "  'Father': 'Father 3',\n",
              "  'Address': 'Address 3'},\n",
              " {'Roll Number': 4,\n",
              "  'Name': 'Student 4',\n",
              "  'Father': 'Father 4',\n",
              "  'Address': 'Address 4'},\n",
              " {'Roll Number': 5,\n",
              "  'Name': 'Student 5',\n",
              "  'Father': 'Father 5',\n",
              "  'Address': 'Address 5'},\n",
              " {'Roll Number': 6,\n",
              "  'Name': 'Student 6',\n",
              "  'Father': 'Father 6',\n",
              "  'Address': 'Address 6'},\n",
              " {'Roll Number': 7,\n",
              "  'Name': 'Student 7',\n",
              "  'Father': 'Father 7',\n",
              "  'Address': 'Address 7'},\n",
              " {'Roll Number': 8,\n",
              "  'Name': 'Student 8',\n",
              "  'Father': 'Father 8',\n",
              "  'Address': 'Address 8'},\n",
              " {'Roll Number': 9,\n",
              "  'Name': 'Student 9',\n",
              "  'Father': 'Father 9',\n",
              "  'Address': 'Address 9'},\n",
              " {'Roll Number': 10,\n",
              "  'Name': 'Student 10',\n",
              "  'Father': 'Father 10',\n",
              "  'Address': 'Address 10'}]"
            ]
          },
          "metadata": {},
          "execution_count": 15
        }
      ]
    },
    {
      "cell_type": "code",
      "source": [
        "# prompt: use Function calling tool  system to enter student roll number 5  and get complete information\n",
        "\n",
        "import random\n",
        "# ##### Copyright 2024 Google LLC.\n",
        "#\n",
        "# ## 1- TASK IS TO GENERATE LIST OF 10 SAMPLE STUDENTS LIST WITH RollNumber, Name, Father, Address.\n",
        "#\n",
        "# ## 2- USE FUNCTION CALLING TOOL SYSTEM TO GET Desire Data of Student roll Number.\n",
        "#\n",
        "#\n",
        "#\n",
        "\n",
        "\n",
        "def generate_student_data(num_students=10):\n",
        "  students = []\n",
        "  for i in range(num_students):\n",
        "    student = {\n",
        "        'Roll Number': i + 1,\n",
        "        'Name': f'Student {i+1}',\n",
        "        'Father': f'Father {i+1}',\n",
        "        'Address': f'Address {i+1}'\n",
        "    }\n",
        "    students.append(student)\n",
        "  return students\n",
        "\n",
        "def get_student_info(roll_number, student_list):\n",
        "    for student in student_list:\n",
        "        if student['Roll Number'] == roll_number:\n",
        "            return student\n",
        "    return \"Student not found\"\n",
        "\n",
        "student_list = generate_student_data()\n",
        "\n",
        "# Example using function calling\n",
        "roll_number_to_find = 5\n",
        "student_info = get_student_info(roll_number_to_find, student_list)\n",
        "student_info"
      ],
      "metadata": {
        "colab": {
          "base_uri": "https://localhost:8080/"
        },
        "id": "HgfFHt-ORLQ7",
        "outputId": "e0da3d18-05f9-4147-c6c6-4e6369725912"
      },
      "execution_count": 16,
      "outputs": [
        {
          "output_type": "execute_result",
          "data": {
            "text/plain": [
              "{'Roll Number': 5,\n",
              " 'Name': 'Student 5',\n",
              " 'Father': 'Father 5',\n",
              " 'Address': 'Address 5'}"
            ]
          },
          "metadata": {},
          "execution_count": 16
        }
      ]
    }
  ],
  "metadata": {
    "colab": {
      "name": "Task1_GenList10SampStds Then_Function_calling_config.ipynb",
      "provenance": [],
      "include_colab_link": true
    },
    "kernelspec": {
      "display_name": "Python 3",
      "name": "python3"
    }
  },
  "nbformat": 4,
  "nbformat_minor": 0
}