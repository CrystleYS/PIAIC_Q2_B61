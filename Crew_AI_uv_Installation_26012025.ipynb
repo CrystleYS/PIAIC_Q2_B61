{
  "nbformat": 4,
  "nbformat_minor": 0,
  "metadata": {
    "colab": {
      "private_outputs": true,
      "provenance": [],
      "name": "Crew_AI-uv_Installation_26012025.ipynb",
      "authorship_tag": "ABX9TyMPPDHOyKAU1sGaXQAMeISk",
      "include_colab_link": true
    },
    "kernelspec": {
      "name": "python3",
      "display_name": "Python 3"
    },
    "language_info": {
      "name": "python"
    }
  },
  "cells": [
    {
      "cell_type": "markdown",
      "metadata": {
        "id": "view-in-github",
        "colab_type": "text"
      },
      "source": [
        "<a href=\"https://colab.research.google.com/github/CrystleYS/PIAIC_Q2_B61/blob/main/Crew_AI_uv_Installation_26012025.ipynb\" target=\"_parent\"><img src=\"https://colab.research.google.com/assets/colab-badge.svg\" alt=\"Open In Colab\"/></a>"
      ]
    },
    {
      "cell_type": "markdown",
      "source": [
        "# [Python UV: The Ultimate Guide to the Fastest Python Package Manager](https://www.datacamp.com/tutorial/python-uv)\n",
        "Learn how to use UV, the fastest Python package manager in 2025. Discover 10x faster dependency management, virtual environments, and seamless migration from pip, Poetry, and Conda.\n",
        "\n",
        "Key features that make UV stand out:\n",
        "\n",
        "\n",
        "\n",
        "*   **Lightning-fast package installation** and dependency resolution\n",
        "*   ***Compatible with existing Python tools ***and workflows\n",
        "*   Built-in virtual environment management\n",
        "*   Support for modern packaging standards\n",
        "*   Reliable dependency **locking** and reproducible environments\n",
        "*   **Memory-efficient operation**, especially for **large projects**\n",
        "\n",
        "\n",
        "The Difference Among UV, Poetry, PIP, Conda, and virtualenv\n",
        "The first question developers often ask before switching to a new tool is \"How does it compare to the one I am already using?\". In the Python dependency and project management arena, these four tools are already the most common:\n",
        "\n",
        "*   PIP\n",
        "*   Poetry\n",
        "*   Conda\n",
        "*   virtualenv\n",
        "\n",
        "\n",
        "\n",
        "\n",
        "\n",
        "## Official Docs\n",
        "\n",
        "## Running scripts\n",
        "\n",
        "## Working on projects\n",
        "\n",
        "## CLI Reference\n",
        "\n",
        "## Watch: Python Setup, Simplified: A Complete \"uv\" Tutorial!"
      ],
      "metadata": {
        "id": "UXnV02D9BTqc"
      }
    },
    {
      "cell_type": "markdown",
      "source": [
        "pypi = python python undex\n",
        "\n",
        "UV manage memory/ no need to install python it will manage self\n",
        "\n",
        "Powerpull, Speed/Downlioading management\n",
        "\n",
        "Package installation UV Pip or UV Add"
      ],
      "metadata": {
        "id": "ETFWYl2jEsdN"
      }
    },
    {
      "cell_type": "code",
      "source": [
        "# Installing UV\n",
        "#powershell -ExecutionPolicy ByPass -c \"irm https://astral.sh/uv/install.ps1 | iex\"   # installation in Power Shell\n",
        "\n",
        "#Open CMD in Root Folder and run \"uv version\"\n",
        "# Create project using cmd \"uv init explore-uv\"\n",
        "# open VS Code  Open root using VS Code\n",
        "# this project contain 03 files Py/toml/md\n",
        "# very importatn file from all this is \"toml\"\n",
        "# Open Terminal from VS Code\n",
        "\n"
      ],
      "metadata": {
        "id": "fpBhkAIrBclT"
      },
      "execution_count": null,
      "outputs": []
    },
    {
      "cell_type": "markdown",
      "source": [
        "LiteLLM Python SDK\n",
        "\n"
      ],
      "metadata": {
        "id": "SSFIDWDSThSa"
      }
    },
    {
      "cell_type": "code",
      "source": [
        "# Define and run the decorator functionc(Ask ChatGPT to define simple example of decorator then below code found )\n",
        "def my_decorator(func):\n",
        "    def wrapper():\n",
        "        print(\"Something is happening before the function is called.\")\n",
        "        func()\n",
        "        print(\"Something is happening after the function is called.\")\n",
        "    return wrapper\n",
        "\n",
        "# Use the decorator\n",
        "@my_decorator        # this is my decorator, Decorator is itself a function\n",
        "def say_hello():\n",
        "    print(\"Hello, world!\")\n",
        "\n",
        "# Call the decorated function\n",
        "say_hello()\n"
      ],
      "metadata": {
        "id": "IXVYykhMZyfp"
      },
      "execution_count": null,
      "outputs": []
    },
    {
      "cell_type": "code",
      "source": [
        "def say_hello():\n",
        "    print(\"Hello, world!\")\n",
        "\n",
        "# Call the decorated function\n",
        "say_hello()"
      ],
      "metadata": {
        "id": "TSBzUXSlaFQL"
      },
      "execution_count": null,
      "outputs": []
    }
  ]
}