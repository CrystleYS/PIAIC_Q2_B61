{
  "nbformat": 4,
  "nbformat_minor": 0,
  "metadata": {
    "colab": {
      "private_outputs": true,
      "provenance": []
    },
    "kernelspec": {
      "name": "python3",
      "display_name": "Python 3"
    },
    "language_info": {
      "name": "python"
    }
  },
  "cells": [
    {
      "cell_type": "markdown",
      "source": [
        "**00_helloworld_ai_api/00_gemini_2_simple_live_api_helloworld/live_api_starter.ipynb**"
      ],
      "metadata": {
        "id": "EInUkth7N5Wv"
      }
    },
    {
      "cell_type": "code",
      "source": [
        "# Live API - Quickstart\n",
        "# Run in Google Colab\n",
        "# Google Gen AI SDK (experimental)\n",
        "# The new Google Gen AI SDK provides a unified interface to Gemini 2.0 through both the Gemini Developer API and the Gemini API on Vertex AI. With a few exceptions, code that runs on one platform will run on both. This means that you can prototype an application using the Developer API and then migrate the application to Vertex AI without rewriting your code.\n",
        "\n",
        "# The Gen AI SDK also supports the Gemini 1.5 models.\n",
        "\n",
        "# The new SDK is available in Python and Go, with Java and JavaScript coming soon.\n",
        "\n",
        "# You can start using the SDK as shown below.\n",
        "\n",
        "# Install the new SDK: pip install google-genai\n",
        "\n",
        "# Then import the library, initialize a client, and generate content:\n",
        "\n",
        "# Setup\n",
        "# Install SDK\n",
        "# The new Google Gen AI SDK provides programmatic access to Gemini 2.0 (and previous models) using both the Google AI for Developers and Vertex AI APIs. With a few exceptions, code that runs on one platform will run on both.\n",
        "\n",
        "# More details about this new SDK on the documentation or in the Getting started notebook.\n",
        "\n",
        "\n",
        "!pip install -U -q google-genai\n"
      ],
      "metadata": {
        "id": "oVXeLj5HOAVh"
      },
      "execution_count": null,
      "outputs": []
    },
    {
      "cell_type": "markdown",
      "source": [
        "Set up your API key\n",
        "To run the following cell, your API key must be stored in a Colab Secret named GOOGLE_API_KEY. If you don't already have an API key, or you're not sure how to create a Colab Secret, see Authentication for an example.\n",
        "\n"
      ],
      "metadata": {
        "id": "46ZGG9ZSPnp3"
      }
    },
    {
      "cell_type": "code",
      "source": [
        "from google.colab import userdata\n",
        "import os\n",
        "\n",
        "os.environ['GOOGLE_API_KEY'] = userdata.get('GOOGLE_API_KEY')"
      ],
      "metadata": {
        "id": "efdjkSfePqSl"
      },
      "execution_count": null,
      "outputs": []
    },
    {
      "cell_type": "markdown",
      "source": [
        "**Import**\n",
        "Import all the necessary modules.\n",
        "\n",
        "\n"
      ],
      "metadata": {
        "id": "tbCGefZfPzFv"
      }
    },
    {
      "cell_type": "code",
      "source": [
        "from google import genai"
      ],
      "metadata": {
        "id": "xjDPDON3P3s8"
      },
      "execution_count": null,
      "outputs": []
    },
    {
      "cell_type": "markdown",
      "source": [
        "**Initialize SDK client**\n",
        "The client will pick up your API key from the environment variable. To use the live API you need to set the client version to v1alpha."
      ],
      "metadata": {
        "id": "fJMDGdRNP_kJ"
      }
    },
    {
      "cell_type": "code",
      "source": [
        "from google import genai\n",
        "client = genai.Client()"
      ],
      "metadata": {
        "id": "jctKVtmZQBtV"
      },
      "execution_count": null,
      "outputs": []
    },
    {
      "cell_type": "markdown",
      "source": [
        "**Select a model**\n",
        "Multimodal Live API are a new capability introduced with the Gemini 2.0 model. It won't work with previous generation models."
      ],
      "metadata": {
        "id": "sySqHUrnQHcL"
      }
    },
    {
      "cell_type": "code",
      "source": [
        "MODEL: str = \"gemini-2.0-flash-exp\""
      ],
      "metadata": {
        "id": "MSPTHor6QMH2"
      },
      "execution_count": null,
      "outputs": []
    },
    {
      "cell_type": "markdown",
      "source": [
        "**Text to Text**\n",
        "The simplest way to use the Live API is as a text-to-text chat interface, but it can do a lot more than this."
      ],
      "metadata": {
        "id": "4s_jaPe1QXt7"
      }
    },
    {
      "cell_type": "code",
      "source": [
        "response = client.models.generate_content(\n",
        "    model=MODEL, contents='How does AI work?'\n",
        ")\n",
        "print(response.text)"
      ],
      "metadata": {
        "id": "ck6NIGOPQW2z"
      },
      "execution_count": null,
      "outputs": []
    }
  ]
}